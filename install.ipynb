{
 "cells": [
  {
   "cell_type": "code",
   "execution_count": 1,
   "metadata": {},
   "outputs": [
    {
     "name": "stdout",
     "output_type": "stream",
     "text": [
      "Looking in indexes: https://pypi.org/simple, https://pypi.ngc.nvidia.comNote: you may need to restart the kernel to use updated packages.\n",
      "\n",
      "Requirement already satisfied: aiohttp in c:\\users\\anh\\.conda\\envs\\se\\lib\\site-packages (3.9.3)\n",
      "Requirement already satisfied: aiosignal>=1.1.2 in c:\\users\\anh\\.conda\\envs\\se\\lib\\site-packages (from aiohttp) (1.3.1)\n",
      "Requirement already satisfied: attrs>=17.3.0 in c:\\users\\anh\\.conda\\envs\\se\\lib\\site-packages (from aiohttp) (23.2.0)\n",
      "Requirement already satisfied: frozenlist>=1.1.1 in c:\\users\\anh\\.conda\\envs\\se\\lib\\site-packages (from aiohttp) (1.4.1)\n",
      "Requirement already satisfied: multidict<7.0,>=4.5 in c:\\users\\anh\\.conda\\envs\\se\\lib\\site-packages (from aiohttp) (6.0.5)\n",
      "Requirement already satisfied: yarl<2.0,>=1.0 in c:\\users\\anh\\.conda\\envs\\se\\lib\\site-packages (from aiohttp) (1.9.4)\n",
      "Requirement already satisfied: idna>=2.0 in c:\\users\\anh\\appdata\\roaming\\python\\python311\\site-packages (from yarl<2.0,>=1.0->aiohttp) (2.10)\n",
      "Looking in indexes: https://pypi.org/simple, https://pypi.ngc.nvidia.com\n",
      "Collecting enum\n",
      "  Downloading enum-0.4.7.tar.gz (20 kB)\n",
      "  Preparing metadata (setup.py): started\n",
      "  Preparing metadata (setup.py): finished with status 'error'\n",
      "Note: you may need to restart the kernel to use updated packages.\n"
     ]
    },
    {
     "name": "stderr",
     "output_type": "stream",
     "text": [
      "  error: subprocess-exited-with-error\n",
      "  \n",
      "  × python setup.py egg_info did not run successfully.\n",
      "  │ exit code: 1\n",
      "  ╰─> [9 lines of output]\n",
      "      Traceback (most recent call last):\n",
      "        File \"<string>\", line 2, in <module>\n",
      "        File \"<pip-setuptools-caller>\", line 11, in <module>\n",
      "        File \"c:\\Users\\Anh\\.conda\\envs\\se\\Lib\\tokenize.py\", line 33, in <module>\n",
      "          import re\n",
      "        File \"c:\\Users\\Anh\\.conda\\envs\\se\\Lib\\re\\__init__.py\", line 140, in <module>\n",
      "          @enum.global_enum\n",
      "           ^^^^^^^^^^^^^^^^\n",
      "      AttributeError: module 'enum' has no attribute 'global_enum'\n",
      "      [end of output]\n",
      "  \n",
      "  note: This error originates from a subprocess, and is likely not a problem with pip.\n",
      "error: metadata-generation-failed\n",
      "\n",
      "× Encountered error while generating package metadata.\n",
      "╰─> See above for output.\n",
      "\n",
      "note: This is an issue with the package mentioned above, not pip.\n",
      "hint: See above for details.\n"
     ]
    },
    {
     "name": "stdout",
     "output_type": "stream",
     "text": [
      "Looking in indexes: https://pypi.org/simple, https://pypi.ngc.nvidia.com\n",
      "Requirement already satisfied: asyncio in c:\\users\\anh\\.conda\\envs\\se\\lib\\site-packages (3.4.3)\n",
      "Note: you may need to restart the kernel to use updated packages.\n",
      "Looking in indexes: https://pypi.org/simple, https://pypi.ngc.nvidia.com\n",
      "Note: you may need to restart the kernel to use updated packages.\n"
     ]
    },
    {
     "name": "stderr",
     "output_type": "stream",
     "text": [
      "ERROR: Could not find a version that satisfies the requirement json (from versions: none)\n",
      "ERROR: No matching distribution found for json\n"
     ]
    },
    {
     "name": "stdout",
     "output_type": "stream",
     "text": [
      "Looking in indexes: https://pypi.org/simple, https://pypi.ngc.nvidia.com\n",
      "Requirement already satisfied: uuid in c:\\users\\anh\\.conda\\envs\\se\\lib\\site-packages (1.30)\n",
      "Note: you may need to restart the kernel to use updated packages.\n",
      "Looking in indexes: https://pypi.org/simple, https://pypi.ngc.nvidia.com\n",
      "Requirement already satisfied: typing in c:\\users\\anh\\.conda\\envs\\se\\lib\\site-packages (3.7.4.3)\n",
      "Note: you may need to restart the kernel to use updated packages.\n",
      "Looking in indexes: https://pypi.org/simple, https://pypi.ngc.nvidia.com\n",
      "Collecting translate\n",
      "  Downloading translate-3.6.1-py2.py3-none-any.whl.metadata (7.7 kB)\n",
      "Collecting click (from translate)\n",
      "  Downloading click-8.1.7-py3-none-any.whl.metadata (3.0 kB)\n",
      "Collecting lxml (from translate)\n",
      "  Downloading lxml-5.2.1-cp311-cp311-win_amd64.whl.metadata (3.5 kB)\n",
      "Collecting requests (from translate)\n",
      "  Downloading requests-2.31.0-py3-none-any.whl.metadata (4.6 kB)\n",
      "Collecting libretranslatepy==2.1.1 (from translate)\n",
      "  Downloading libretranslatepy-2.1.1-py3-none-any.whl.metadata (233 bytes)\n",
      "Requirement already satisfied: colorama in c:\\users\\anh\\.conda\\envs\\se\\lib\\site-packages (from click->translate) (0.4.6)\n",
      "Collecting charset-normalizer<4,>=2 (from requests->translate)\n",
      "  Downloading charset_normalizer-3.3.2-cp311-cp311-win_amd64.whl.metadata (34 kB)\n",
      "Requirement already satisfied: idna<4,>=2.5 in c:\\users\\anh\\appdata\\roaming\\python\\python311\\site-packages (from requests->translate) (2.10)\n",
      "Collecting urllib3<3,>=1.21.1 (from requests->translate)\n",
      "  Downloading urllib3-2.2.1-py3-none-any.whl.metadata (6.4 kB)\n",
      "Collecting certifi>=2017.4.17 (from requests->translate)\n",
      "  Downloading certifi-2024.2.2-py3-none-any.whl.metadata (2.2 kB)\n",
      "Downloading translate-3.6.1-py2.py3-none-any.whl (12 kB)\n",
      "Downloading libretranslatepy-2.1.1-py3-none-any.whl (3.2 kB)\n",
      "Downloading click-8.1.7-py3-none-any.whl (97 kB)\n",
      "   ---------------------------------------- 0.0/97.9 kB ? eta -:--:--\n",
      "   ------------------------- -------------- 61.4/97.9 kB 3.2 MB/s eta 0:00:01\n",
      "   ---------------------------------------- 97.9/97.9 kB 1.9 MB/s eta 0:00:00\n",
      "Downloading lxml-5.2.1-cp311-cp311-win_amd64.whl (3.8 MB)\n",
      "   ---------------------------------------- 0.0/3.8 MB ? eta -:--:--\n",
      "   - -------------------------------------- 0.1/3.8 MB 6.4 MB/s eta 0:00:01\n",
      "   ---- ----------------------------------- 0.4/3.8 MB 6.0 MB/s eta 0:00:01\n",
      "   ------- -------------------------------- 0.7/3.8 MB 6.4 MB/s eta 0:00:01\n",
      "   ---------- ----------------------------- 1.0/3.8 MB 5.8 MB/s eta 0:00:01\n",
      "   -------------- ------------------------- 1.4/3.8 MB 6.1 MB/s eta 0:00:01\n",
      "   ---------------- ----------------------- 1.6/3.8 MB 6.3 MB/s eta 0:00:01\n",
      "   ---------------- ----------------------- 1.6/3.8 MB 6.3 MB/s eta 0:00:01\n",
      "   ---------------------- ----------------- 2.1/3.8 MB 6.1 MB/s eta 0:00:01\n",
      "   ------------------------ --------------- 2.4/3.8 MB 5.8 MB/s eta 0:00:01\n",
      "   --------------------------- ------------ 2.6/3.8 MB 5.7 MB/s eta 0:00:01\n",
      "   ----------------------------- ---------- 2.8/3.8 MB 5.7 MB/s eta 0:00:01\n",
      "   -------------------------------- ------- 3.1/3.8 MB 5.6 MB/s eta 0:00:01\n",
      "   ---------------------------------- ----- 3.3/3.8 MB 5.5 MB/s eta 0:00:01\n",
      "   ------------------------------------- -- 3.5/3.8 MB 5.7 MB/s eta 0:00:01\n",
      "   ---------------------------------------  3.8/3.8 MB 5.5 MB/s eta 0:00:01\n",
      "   ---------------------------------------- 3.8/3.8 MB 5.5 MB/s eta 0:00:00\n",
      "Downloading requests-2.31.0-py3-none-any.whl (62 kB)\n",
      "   ---------------------------------------- 0.0/62.6 kB ? eta -:--:--\n",
      "   ---------------------------------------- 62.6/62.6 kB ? eta 0:00:00\n",
      "Downloading certifi-2024.2.2-py3-none-any.whl (163 kB)\n",
      "   ---------------------------------------- 0.0/163.8 kB ? eta -:--:--\n",
      "   ---------------------------------------- 163.8/163.8 kB 9.6 MB/s eta 0:00:00\n",
      "Downloading charset_normalizer-3.3.2-cp311-cp311-win_amd64.whl (99 kB)\n",
      "   ---------------------------------------- 0.0/99.9 kB ? eta -:--:--\n",
      "   ---------------------------------------- 99.9/99.9 kB 6.0 MB/s eta 0:00:00\n",
      "Downloading urllib3-2.2.1-py3-none-any.whl (121 kB)\n",
      "   ---------------------------------------- 0.0/121.1 kB ? eta -:--:--\n",
      "   ---------------------------------------- 121.1/121.1 kB ? eta 0:00:00\n",
      "Installing collected packages: libretranslatepy, urllib3, lxml, click, charset-normalizer, certifi, requests, translate\n",
      "Successfully installed certifi-2024.2.2 charset-normalizer-3.3.2 click-8.1.7 libretranslatepy-2.1.1 lxml-5.2.1 requests-2.31.0 translate-3.6.1 urllib3-2.2.1\n",
      "Note: you may need to restart the kernel to use updated packages.\n"
     ]
    },
    {
     "name": "stderr",
     "output_type": "stream",
     "text": [
      "  WARNING: The script normalizer.exe is installed in 'c:\\Users\\Anh\\.conda\\envs\\se\\Scripts' which is not on PATH.\n",
      "  Consider adding this directory to PATH or, if you prefer to suppress this warning, use --no-warn-script-location.\n",
      "  WARNING: The script translate-cli.exe is installed in 'c:\\Users\\Anh\\.conda\\envs\\se\\Scripts' which is not on PATH.\n",
      "  Consider adding this directory to PATH or, if you prefer to suppress this warning, use --no-warn-script-location.\n",
      "ERROR: pip's dependency resolver does not currently take into account all the packages that are installed. This behaviour is the source of the following dependency conflicts.\n",
      "httpx 0.13.3 requires sniffio, which is not installed.\n",
      "torchvision 0.16.1 requires numpy, which is not installed.\n",
      "torchvision 0.16.1 requires pillow!=8.3.*,>=5.3.0, which is not installed.\n"
     ]
    }
   ],
   "source": [
    "%pip install aiohttp\n",
    "%pip install enum\n",
    "%pip install asyncio\n",
    "%pip install json\n",
    "%pip install uuid\n",
    "%pip install typing\n",
    "%pip install translate"
   ]
  }
 ],
 "metadata": {
  "kernelspec": {
   "display_name": "Python 3",
   "language": "python",
   "name": "python3"
  },
  "language_info": {
   "codemirror_mode": {
    "name": "ipython",
    "version": 3
   },
   "file_extension": ".py",
   "mimetype": "text/x-python",
   "name": "python",
   "nbconvert_exporter": "python",
   "pygments_lexer": "ipython3",
<<<<<<< HEAD
   "version": "3.11.5"
=======
   "version": "3.11.8"
>>>>>>> b4064546055342f6882bbffce69a070ae9fb946b
  }
 },
 "nbformat": 4,
 "nbformat_minor": 2
}
